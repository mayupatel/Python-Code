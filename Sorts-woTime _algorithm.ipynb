{
 "cells": [
  {
   "cell_type": "markdown",
   "metadata": {},
   "source": [
    "## Name: Mayuri Patel"
   ]
  },
  {
   "cell_type": "markdown",
   "metadata": {},
   "source": [
    "## Sorting Algorithm:"
   ]
  },
  {
   "cell_type": "markdown",
   "metadata": {},
   "source": [
    "### The two sorting algorithms- insertion sorting algorithm and merge sorting algorithm are written using python code."
   ]
  },
  {
   "cell_type": "markdown",
   "metadata": {},
   "source": [
    "Importing the modules:"
   ]
  },
  {
   "cell_type": "code",
   "execution_count": 1,
   "metadata": {},
   "outputs": [],
   "source": [
    "#importing the modules\n",
    "import random as r\n",
    "import matplotlib.pyplot as plt"
   ]
  },
  {
   "cell_type": "markdown",
   "metadata": {},
   "source": [
    "Function of bubblesort:"
   ]
  },
  {
   "cell_type": "code",
   "execution_count": null,
   "metadata": {},
   "outputs": [],
   "source": [
    "#this function is for insertion sorting algorithm.\n",
    "def bubbleSort(arr):\n",
    "    #storing the length of the list\n",
    "    n = len(arr)\n",
    " \n",
    "    # Traverse through all array elements\n",
    "    for i in range(n):\n",
    " \n",
    "        # Last i elements are already in place\n",
    "        for j in range(0, n-i-1):\n",
    " \n",
    "            # traverse the array from 0 to n-i-1\n",
    "            # Swap if the element found is greater\n",
    "            # than the next element\n",
    "            if arr[j] > arr[j+1] :\n",
    "                arr[j], arr[j+1] = arr[j+1], arr[j]"
   ]
  },
  {
   "cell_type": "markdown",
   "metadata": {},
   "source": [
    "Function of mergesort:"
   ]
  },
  {
   "cell_type": "code",
   "execution_count": 3,
   "metadata": {},
   "outputs": [],
   "source": [
    "#this function is for merge sort algorithm:\n",
    "def mergeSort(arr): \n",
    "    if len(arr) >1: \n",
    "        mid = len(arr)//2 #Finding the mid of the array \n",
    "        L = arr[:mid] # Dividing the array elements  \n",
    "        R = arr[mid:] # into 2 halves \n",
    "  \n",
    "        mergeSort(L) # Sorting the first half \n",
    "        mergeSort(R) # Sorting the second half \n",
    "  \n",
    "        i = j = k = 0\n",
    "          \n",
    "        # Copy data to temp arrays L[] and R[] \n",
    "        while i < len(L) and j < len(R): \n",
    "            if L[i] < R[j]: \n",
    "                arr[k] = L[i] \n",
    "                i+=1\n",
    "            else: \n",
    "                arr[k] = R[j] \n",
    "                j+=1\n",
    "            k+=1\n",
    "          \n",
    "        # Checking if any element was left \n",
    "        while i < len(L): \n",
    "            arr[k] = L[i] \n",
    "            i+=1\n",
    "            k+=1\n",
    "          \n",
    "        while j < len(R): \n",
    "            arr[k] = R[j] \n",
    "            j+=1\n",
    "            k+=1"
   ]
  },
  {
   "cell_type": "markdown",
   "metadata": {},
   "source": [
    "Function to generate a list:"
   ]
  },
  {
   "cell_type": "code",
   "execution_count": 4,
   "metadata": {},
   "outputs": [],
   "source": [
    "#this function build the list from the given input length\n",
    "def makeLst(lstlen):\n",
    "    Lst = []\n",
    "    for i in range(0,lstlen):\n",
    "        Lst.append(r.randint(0,1000)) #using the random \n",
    "    \n",
    "    #returns the list and exit the function\n",
    "    return Lst"
   ]
  },
  {
   "cell_type": "code",
   "execution_count": 5,
   "metadata": {},
   "outputs": [
    {
     "name": "stdout",
     "output_type": "stream",
     "text": [
      "List generated - bubbleSort\n",
      "Wall time: 50.4 ms\n",
      "bubblesort done, start mergeSort\n",
      "Wall time: 0 ns\n"
     ]
    }
   ],
   "source": [
    "#calling the function and passing the argument\n",
    "testlst = makeLst(500)\n",
    "\n",
    "#calling the function bubblesort to sort the generated list\n",
    "print(\"List generated - bubbleSort\")\n",
    "%time bubbleSort(testlst.copy()) #%time will show how much time is taken for that particular function to run.\n",
    "\n",
    "#calling the function mergesort to sort the generated list\n",
    "print(\"bubblesort done, start mergeSort\")\n",
    "%time mergeSort(testlst.copy()) #%time will show how much time is taken for that particular function to run."
   ]
  },
  {
   "cell_type": "markdown",
   "metadata": {},
   "source": [
    "### - Using the above code, the following question is answered:"
   ]
  },
  {
   "cell_type": "markdown",
   "metadata": {},
   "source": [
    "Exam Question:\n",
    " \n",
    "The %timeit magic in Jupyter Notebooks allows us to time a statement and save that result as a variable. With this in mind, we could t set up a test, wherein the time to sort a randomized list of numbers of a constant size was recorded for each algorithm. Ideally, we would repeat this comparison many times using different randomized lists, and plot the results. How could we accomplish this, in as much detail?"
   ]
  },
  {
   "cell_type": "code",
   "execution_count": 8,
   "metadata": {},
   "outputs": [
    {
     "name": "stdout",
     "output_type": "stream",
     "text": [
      "11.5 µs ± 727 ns per loop (mean ± std. dev. of 7 runs, 100000 loops each)\n",
      "12.9 µs ± 273 ns per loop (mean ± std. dev. of 7 runs, 100000 loops each)\n",
      "10.6 µs ± 248 ns per loop (mean ± std. dev. of 7 runs, 100000 loops each)\n",
      "11 µs ± 599 ns per loop (mean ± std. dev. of 7 runs, 100000 loops each)\n",
      "11.3 µs ± 441 ns per loop (mean ± std. dev. of 7 runs, 100000 loops each)\n",
      "10.8 µs ± 331 ns per loop (mean ± std. dev. of 7 runs, 100000 loops each)\n",
      "12 µs ± 337 ns per loop (mean ± std. dev. of 7 runs, 100000 loops each)\n",
      "13.8 µs ± 769 ns per loop (mean ± std. dev. of 7 runs, 100000 loops each)\n",
      "11.1 µs ± 836 ns per loop (mean ± std. dev. of 7 runs, 100000 loops each)\n",
      "10.6 µs ± 486 ns per loop (mean ± std. dev. of 7 runs, 100000 loops each)\n"
     ]
    },
    {
     "data": {
      "image/png": "[encoded data removed]",
      "text/plain": [
       "<Figure size 432x288 with 1 Axes>"
      ]
     },
     "metadata": {
      "needs_background": "light"
     },
     "output_type": "display_data"
    }
   ],
   "source": [
    "#loop to generate the list\n",
    "time_Lst = []\n",
    "for m in range(0,10):\n",
    "    #calling the function...\n",
    "    testlst1 = makeLst(10)\n",
    "    # calling the bubblesort function to sort the list\n",
    "    #using %timeit helps to record the time for each run\n",
    "    timeLst = %timeit -o bubbleSort(testlst1.copy())\n",
    "    #taking average from the list generated from the time output\n",
    "    result = timeLst.average\n",
    "    #storing it in a list to plot\n",
    "    time_Lst.append(result)\n",
    "\n",
    "# plotting the resultant time for each iteration.\n",
    "plt.plot(time_Lst)\n",
    "\n",
    "# Add title and axis names\n",
    "plt.title(\"Number of iterations taken to run a program\")\n",
    "plt.xlabel(\"Iterations\")\n",
    "plt.ylabel(\"Time\")\n",
    "plt.show()"
   ]
  }
 ],
 "metadata": {
  "kernelspec": {
   "display_name": "Python 3",
   "language": "python",
   "name": "python3"
  },
  "language_info": {
   "codemirror_mode": {
    "name": "ipython",
    "version": 3
   },
   "file_extension": ".py",
   "mimetype": "text/x-python",
   "name": "python",
   "nbconvert_exporter": "python",
   "pygments_lexer": "ipython3",
   "version": "3.7.3"
  }
 },
 "nbformat": 4,
 "nbformat_minor": 2
}
