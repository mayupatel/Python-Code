{
 "cells": [
  {
   "cell_type": "markdown",
   "metadata": {},
   "source": [
    "## Name: Mayuri Patel"
   ]
  },
  {
   "cell_type": "markdown",
   "metadata": {},
   "source": [
    "### Basic of OOP - Object Oriented Programming (Python)"
   ]
  },
  {
   "cell_type": "markdown",
   "metadata": {},
   "source": [
    "### Using the example of the PET for OOP:"
   ]
  },
  {
   "cell_type": "markdown",
   "metadata": {},
   "source": [
    "Writing the parent class of pet:"
   ]
  },
  {
   "cell_type": "code",
   "execution_count": 1,
   "metadata": {},
   "outputs": [],
   "source": [
    "# parent class is defined as pet here.\n",
    "class pet:\n",
    "    \n",
    "    #constructor which takes name and age of the pet.\n",
    "    def __init__(self, name, age):\n",
    "        self.name = name\n",
    "        self.age = age\n",
    "     \n",
    "    # a method is build with in the class\n",
    "    def eat(self):\n",
    "        # printing the variable with the statement\n",
    "        print(self.name + \" ate their food.\")\n",
    "     \n",
    "    # defining repr to return the name of the pet.\n",
    "    def __repr__(self):\n",
    "        \n",
    "        return self.name   "
   ]
  },
  {
   "cell_type": "code",
   "execution_count": 2,
   "metadata": {},
   "outputs": [
    {
     "name": "stdout",
     "output_type": "stream",
     "text": [
      "momo ate their food.\n",
      "This is the pet Cat: momo\n",
      "This is the pet Rabbit: chuchu\n"
     ]
    }
   ],
   "source": [
    "#instantiate of the parent class pet.\n",
    "pet_cat = pet(\"momo\", 5)\n",
    "pet_rabbit = pet(\"chuchu\",3)\n",
    "\n",
    "# access the instance attributes\n",
    "pet_cat.eat() # calling the method eat()\n",
    "\n",
    "#print the return variable\n",
    "print(\"This is the pet Cat: \" + str(pet_cat))\n",
    "print(\"This is the pet Rabbit: \" + str(pet_rabbit))"
   ]
  },
  {
   "cell_type": "markdown",
   "metadata": {},
   "source": [
    "Writing the child class dog:"
   ]
  },
  {
   "cell_type": "code",
   "execution_count": 3,
   "metadata": {
    "pycharm": {
     "is_executing": false
    }
   },
   "outputs": [
    {
     "name": "stdout",
     "output_type": "stream",
     "text": [
      "Rex the Golden Retriever\n",
      "You pet Rex\n",
      "Rex became friends with Snuffles the Terrier\n"
     ]
    }
   ],
   "source": [
    "#defining the child class dog\n",
    "class Dog:\n",
    "    \n",
    "    #setting the variables in constructor\n",
    "    def __init__(self,name,breed):\n",
    "        self.name = name\n",
    "        self.breed = breed\n",
    "        self.happiness = 0\n",
    "        self.friends = []\n",
    "    \n",
    "    #returning the name and breed of the dog\n",
    "    def __repr__(self):\n",
    "        return(self.name + \" the \"  + self.breed)\n",
    "    \n",
    "    #instance of the method that store the list of dog's friends\n",
    "    def addFriend(self, friend):\n",
    "        print(self.name + \" became friends with \" + str(friend))\n",
    "        self.friends.append(friend)\n",
    "        friend.friends.append(self)\n",
    "    \n",
    "    #this method prints the pet name\n",
    "    def petDog(self):\n",
    "        self.happiness += 10\n",
    "        print(\"You pet \" + self.name)\n",
    "    \n",
    "    #this method takes treattype for the dog and count their happiness.\n",
    "    def giveTreat(self,treatType):\n",
    "        #if/else for different type of treats to count the happiness\n",
    "        if treatType == \"Pig Ear\":\n",
    "            self.happiness += 30\n",
    "        elif treatType == \"Milkbone\":\n",
    "            self.happiness += 20\n",
    "        else:\n",
    "            self.happiness += 15\n",
    "        \n",
    "\n",
    "\n",
    "#instantiate of the child class dog.\n",
    "#Object instantiation \n",
    "dog1 = Dog(\"Rex\", \"Golden Retriever\")\n",
    "dog2 = Dog(\"Snuffles\", \"Terrier\") \n",
    "\n",
    "\n",
    "# Accessing class attributes \n",
    "# and method through objects \n",
    "print(dog1)     \n",
    "dog1.petDog() # calling the method from the class dog\n",
    "dog1.giveTreat(\"Pig Ear\") \n",
    "dog1.addFriend(dog2)"
   ]
  },
  {
   "cell_type": "markdown",
   "metadata": {},
   "source": [
    "Writing the class dogpark that uses class Dog:"
   ]
  },
  {
   "cell_type": "code",
   "execution_count": 4,
   "metadata": {
    "pycharm": {
     "is_executing": false
    }
   },
   "outputs": [
    {
     "name": "stdout",
     "output_type": "stream",
     "text": [
      "Rex the Golden Retriever\n",
      "Snuffles the Terrier\n",
      "Kaylee the German Sheperd\n",
      "Poe the Corgi\n",
      "Rex the Golden Retriever and Kaylee the German Sheperd are playing together\n",
      "Rex became friends with Kaylee the German Sheperd\n",
      "Kaylee became friends with Rex the Golden Retriever\n",
      "[Snuffles the Terrier, Kaylee the German Sheperd, Kaylee the German Sheperd]\n",
      "[Rex the Golden Retriever, Rex the Golden Retriever]\n"
     ]
    }
   ],
   "source": [
    "#the child class:\n",
    "class DogPark:\n",
    "    \n",
    "    #constructor writes the instance variable\n",
    "    def __init__(self,name):\n",
    "        self.dogsInPark = []\n",
    "        self.name = name\n",
    "    \n",
    "    #method to valide the dog type\n",
    "    #and return a boolean\n",
    "    def checkDog(self,dog):\n",
    "        if type(dog) == Dog:\n",
    "            return True\n",
    "        else:\n",
    "            return False\n",
    "    \n",
    "    #method for adding dog to park and valid them\n",
    "    def addDogToPark(self,dog):\n",
    "        if self.checkDog(dog):\n",
    "            self.dogsInPark.append(dog)\n",
    "        else:\n",
    "            print(\"That's not a dog! \")\n",
    "    \n",
    "    #this method print the dogs in the park\n",
    "    def getDogsInPark(self):\n",
    "        for dog in self.dogsInPark:\n",
    "            print(str(dog))\n",
    "    \n",
    "    #this method is for dog play and friends\n",
    "    def playingTogether(self):\n",
    "        print(str(self.dogsInPark[0]) + \" and \" + str(self.dogsInPark[2]) + \" are playing together\")\n",
    "        self.dogsInPark[0].addFriend(self.dogsInPark[2])\n",
    "        self.dogsInPark[2].addFriend(self.dogsInPark[0])\n",
    "            \n",
    "\n",
    "            \n",
    "#instantiate of the class dogpark.\n",
    "#Object instantiation             \n",
    "ramsettPark = DogPark(\"Ramsett Park\")\n",
    "kaylee = Dog(\"Kaylee\", \"German Sheperd\")\n",
    "poe = Dog(\"Poe\", \"Corgi\")\n",
    "\n",
    "\n",
    "# Accessing class attributes \n",
    "# and method through objects \n",
    "ramsettPark.addDogToPark(dog1)\n",
    "ramsettPark.addDogToPark(dog2)\n",
    "ramsettPark.addDogToPark(kaylee)\n",
    "ramsettPark.addDogToPark(poe)\n",
    "ramsettPark.getDogsInPark()\n",
    "ramsettPark.playingTogether()\n",
    "\n",
    "#accessing the friends of the dogs with the print statement\n",
    "print(dog1.friends)\n",
    "print(kaylee.friends)"
   ]
  },
  {
   "cell_type": "markdown",
   "metadata": {},
   "source": [
    "Writing the child class cat:"
   ]
  },
  {
   "cell_type": "code",
   "execution_count": 5,
   "metadata": {},
   "outputs": [
    {
     "name": "stdout",
     "output_type": "stream",
     "text": [
      "momo the cat.\n",
      "momo ate their food.\n",
      "momo plays with their food.. and then eats it.\n"
     ]
    }
   ],
   "source": [
    "#the child class cat which inherit the parent class pet.\n",
    "class Cat(pet):\n",
    "    \n",
    "    #inherit the parent class pet\n",
    "    def __init__(self,name,age,color):\n",
    "        super().__init__(name,age)\n",
    "        #pet.__init__(self,name,age)\n",
    "        self.color = color\n",
    "    \n",
    "    #defining the method to inherit the parent class method \n",
    "    def eat(self):\n",
    "        super().eat()\n",
    "        print(self.name + \" plays with their food.. and then eats it.\")\n",
    "        \n",
    "    #returning the pet - cat name    \n",
    "    def __repr__(self):\n",
    "        return self.name + \" the cat.\"\n",
    "    \n",
    "#instantiate of the class dogpark.\n",
    "#Object instantiation     \n",
    "pet_cat = Cat(\"momo\", 5, \"white\")\n",
    "\n",
    "# Accessing class attributes \n",
    "# and method through objects \n",
    "print(pet_cat)\n",
    "pet_cat.color \n",
    "pet_cat.eat()"
   ]
  }
 ],
 "metadata": {
  "kernelspec": {
   "display_name": "Python 3",
   "language": "python",
   "name": "python3"
  },
  "language_info": {
   "codemirror_mode": {
    "name": "ipython",
    "version": 3
   },
   "file_extension": ".py",
   "mimetype": "text/x-python",
   "name": "python",
   "nbconvert_exporter": "python",
   "pygments_lexer": "ipython3",
   "version": "3.7.3"
  }
 },
 "nbformat": 4,
 "nbformat_minor": 2
}
